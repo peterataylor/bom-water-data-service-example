{
 "metadata": {
  "name": "",
  "signature": "sha256:f00d7e13412da345ad9c5d7d2475afa2954a660f85ccb7ba09adb45c4be11301"
 },
 "nbformat": 3,
 "nbformat_minor": 0,
 "worksheets": [
  {
   "cells": [
    {
     "cell_type": "markdown",
     "metadata": {},
     "source": [
      "# Using OWSLib to access Bureau of Meteorology Water Data Services (using Sensor Observation Service 2.0)\n",
      "\n",
      "This py notebook shows how to retrieve water data from the Bureau of Meteorology's water data services (see http://www.bom.gov.au/waterdata/). The data services is a Sensor Observation Service (SOS) v2.0. \n",
      "\n",
      "## Service setup and metadata\n",
      "\n",
      "The following imports the required OWSLib library, and contructs the base service object using the BoM service URL. Note that some of the functions use here are not yet merged into OWSLib (see https://github.com/geopython/OWSLib/pull/241). "
     ]
    },
    {
     "cell_type": "code",
     "collapsed": false,
     "input": [
      "from owslib.sos import SensorObservationService\n",
      "from owslib.swe.observation.sos200 import SOSGetObservationResponse\n",
      "\n",
      "service = SensorObservationService('http://www.bom.gov.au/waterdata/services',version='2.0.0')"
     ],
     "language": "python",
     "metadata": {},
     "outputs": [],
     "prompt_number": 2
    },
    {
     "cell_type": "markdown",
     "metadata": {},
     "source": [
      "We now have a service description document (capabilities doc). This describes what the service can do and provides some identifiers for various data offerings. E.g. the available time-series types:"
     ]
    },
    {
     "cell_type": "code",
     "collapsed": false,
     "input": [
      "print \"Number of available offering types: %d\" % len(service.contents)"
     ],
     "language": "python",
     "metadata": {},
     "outputs": [
      {
       "output_type": "stream",
       "stream": "stdout",
       "text": [
        "Number of available offering types: 148\n"
       ]
      }
     ],
     "prompt_number": 3
    },
    {
     "cell_type": "markdown",
     "metadata": {},
     "source": [
      "## Retrieving descriptions of available data streams\n",
      "\n",
      "This still doesn't describe identifiers for stations, or what is available at each station. To do this we need to use the 'GetDataAvailability' function. This call can be used to describe the available data series at a particular station. This is not part of the core SOS 2.0 spec, but it has been implemented by the Bureau using the HydroSOS profile. \n",
      "\n",
      "__This still needs to be implemented in OWSLib__ Will try and add it. \n",
      "\n",
      "An example using an HTTP KvP request:"
     ]
    },
    {
     "cell_type": "markdown",
     "metadata": {},
     "source": [
      "http://www.bom.gov.au/waterdata/services?service=SOS&version=2.0&request=GetDataAvailability&featureOfInterest=http://bom.gov.au/waterdata/services/stations/30.2"
     ]
    },
    {
     "cell_type": "markdown",
     "metadata": {},
     "source": [
      "## Retrieving feature descriptions\n",
      "\n",
      "The Bureau service supports the GetFeatureOfInterest call, which is useful for discovering features with spatial filters. This call is not in OWSLib yet, but can be made using straight HTTP calls. I'll add an example.."
     ]
    },
    {
     "cell_type": "markdown",
     "metadata": {},
     "source": [
      "## Retrieving observations\n",
      "\n",
      "This example below requests water course discharge data for a specific monitoring site (http://bom.gov.au/waterdata/services/stations/30.2 - a site in Tasmania), for the period 1st Jan 2016 to 5th March 2015. "
     ]
    },
    {
     "cell_type": "code",
     "collapsed": false,
     "input": [
      "response = service.get_observation(featureOfInterest='http://bom.gov.au/waterdata/services/stations/30.2',\n",
      "                                   offerings=['http://bom.gov.au/waterdata/services/tstypes/Pat4_PC_1'],\n",
      "                                   observedProperties=['http://bom.gov.au/waterdata/services/parameters/Water Course Discharge'],\n",
      "                                   eventTime='om:phenomenonTime,2016-01-01T00:00:00+10/2016-03-05T00:00:00+10')"
     ],
     "language": "python",
     "metadata": {},
     "outputs": [],
     "prompt_number": 4
    },
    {
     "cell_type": "markdown",
     "metadata": {},
     "source": [
      "## WaterML2.0 observation parser, plotting with pandas\n",
      "\n",
      "Once you have the service response, you can parse the response uing the OWSLib SOSGetObservationResponse class. This will identify the type of service response (in this case, WaterML2.0) and provide a parsed object. \n",
      "\n",
      "Here we just pull out the time-value pairs and pass to Pandas to plot. Worth noting that missing points and gaps are correctly passed through. "
     ]
    },
    {
     "cell_type": "code",
     "collapsed": false,
     "input": [
      "%matplotlib inline\n",
      "from owslib.etree import etree\n",
      "import pandas as pd\n",
      "from pandas import Series\n",
      "\n",
      "et = etree.fromstring(response)\n",
      "parsed_response = SOSGetObservationResponse(et)\n",
      "\n",
      "for o in parsed_response.observations[0:2]:\n",
      "    series = o.get_result()\n",
      "    dates = [p.datetime for p in series]\n",
      "    values = [p.value for p in series]  \n",
      "    \n",
      "    series = pd.Series(values, index=dates)\n",
      "    series.plot()"
     ],
     "language": "python",
     "metadata": {},
     "outputs": [
      {
       "metadata": {},
       "output_type": "display_data",
       "png": "[encoded data removed]",
       "text": [
        "<matplotlib.figure.Figure at 0x114ed11d0>"
       ]
      }
     ],
     "prompt_number": 5
    },
    {
     "cell_type": "code",
     "collapsed": false,
     "input": [],
     "language": "python",
     "metadata": {},
     "outputs": []
    }
   ],
   "metadata": {}
  }
 ]
}